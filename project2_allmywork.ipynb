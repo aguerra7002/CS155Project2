{
 "cells": [
  {
   "cell_type": "code",
   "execution_count": 2,
   "metadata": {},
   "outputs": [],
   "source": [
    "import matplotlib.pyplot as plt\n",
    "import numpy as np\n",
    "from matplotlib import colors\n",
    "\n",
    "def load_data(filename, usecols = (), skiprows = 0):\n",
    "    \"\"\"\n",
    "    Function loads data stored in the file filename and returns it as a numpy ndarray.\n",
    "    \n",
    "    Inputs:\n",
    "        filename: given as a string.\n",
    "        \n",
    "    Outputs:\n",
    "        Data contained in the file, returned as a numpy ndarray\n",
    "    \"\"\"\n",
    "    return np.loadtxt(filename, skiprows=skiprows, delimiter=',', usecols= usecols)"
   ]
  },
  {
   "cell_type": "code",
   "execution_count": 3,
   "metadata": {},
   "outputs": [],
   "source": [
    "movies = load_data('data/movies.csv', usecols = range(2, 20))\n",
    "movies = np.concatenate((np.array([x for x in range(1, movies.shape[0] + 1)])[:, np.newaxis], movies), axis=1)\n"
   ]
  },
  {
   "cell_type": "code",
   "execution_count": 4,
   "metadata": {},
   "outputs": [],
   "source": [
    "user_data = load_data('data/data.csv', skiprows = 1)"
   ]
  },
  {
   "cell_type": "code",
   "execution_count": 21,
   "metadata": {},
   "outputs": [
    {
     "data": {
      "text/plain": [
       "0.0"
      ]
     },
     "execution_count": 21,
     "metadata": {},
     "output_type": "execute_result"
    }
   ],
   "source": [
    "child[0]"
   ]
  },
  {
   "cell_type": "code",
   "execution_count": 16,
   "metadata": {},
   "outputs": [
    {
     "name": "stdout",
     "output_type": "stream",
     "text": [
      "Popularity\n",
      "583.0 4.3584905660377355\n",
      "Popularity\n",
      "509.0 3.3207547169811322\n",
      "Popularity\n",
      "507.0 3.485420240137221\n",
      "Popularity\n",
      "485.0 2.6260720411663807\n",
      "Popularity\n",
      "478.0 2.8216123499142367\n",
      "Popularity\n",
      "431.0 2.684391080617496\n",
      "Popularity\n",
      "350.0 2.548885077186964\n",
      "Popularity\n",
      "344.0 1.955403087478559\n",
      "Popularity\n",
      "316.0 1.6929674099485421\n",
      "Popularity\n",
      "298.0 2.2830188679245285\n",
      "\n",
      "Ratings\n",
      "4.3584905660377355 4.3584905660377355\n",
      "Ratings\n",
      "3.620926243567753 3.620926243567753\n",
      "Ratings\n",
      "3.485420240137221 3.485420240137221\n",
      "Ratings\n",
      "3.3207547169811322 3.3207547169811322\n",
      "Ratings\n",
      "3.0171526586620923 3.0171526586620923\n",
      "Ratings\n",
      "2.8216123499142367 2.8216123499142367\n",
      "Ratings\n",
      "2.684391080617496 2.684391080617496\n",
      "Ratings\n",
      "2.548885077186964 2.548885077186964\n",
      "Ratings\n",
      "2.2830188679245285 2.2830188679245285\n",
      "Ratings\n",
      "1.9725557461406518 1.9725557461406518\n"
     ]
    }
   ],
   "source": [
    "# Basic Visualization Arrays\n",
    "x = movies[:, 0]\n",
    "y = np.zeros((movies.shape[0], 5))\n",
    "popularity = np.zeros(10)\n",
    "pop_ind = np.zeros(10)\n",
    "ratings = np.zeros(10)\n",
    "rat_ind = np.zeros(10)\n",
    "child = np.array([])\n",
    "fantasy = np.array([])\n",
    "romance = np.array([])\n",
    "# ratings_ignore = np.zeros(10)\n",
    "# rat_ignore = np.zeros(10)\n",
    "\n",
    "for user in range(user_data.shape[0]):\n",
    "    y[int(user_data[user, 1]-1), int(user_data[user, 2]) - 1] += 1\n",
    "\n",
    "for movie in range(y.shape[0]):\n",
    "    average = (1*y[movie, 0]) + (2*y[movie, 1]) + (3*y[movie, 2]) + (4*y[movie, 3]) + (5*y[movie, 4])\n",
    "    average /= np.sum(y[movie, :])\n",
    "    w_average = average * (np.sum(y[movie, :])/np.amax(np.sum(y[:, :], axis = 1)))\n",
    "    for p in range(popularity.shape[0]):\n",
    "        if popularity[p] < np.sum(y[movie, :]):\n",
    "            popularity[p] = np.sum(y[movie, :])\n",
    "            pop_ind[p] = movie\n",
    "            break\n",
    "    for r in range(ratings.shape[0]):\n",
    "        if ratings[r] < w_average:\n",
    "            ratings[r] = w_average\n",
    "            rat_ind[r] = movie\n",
    "            break\n",
    "    \n",
    "    if movies[movie, 4] == 1 and movie not in child:\n",
    "        child = np.append(child, movie)\n",
    "    if movies[movie, 9] == 1 and movie not in fantasy:\n",
    "        fantasy = np.append(fantasy, movie)\n",
    "    if movies[movie, 14] == 1 and movie not in romance:\n",
    "        romance = np.append(romance, movie)\n",
    "\n",
    "for p in range(popularity.shape[0]):\n",
    "    v = int(pop_ind[p])\n",
    "    average = (1*y[v, 0]) + (2*y[v, 1]) + (3*y[v, 2]) + (4*y[v, 3]) + (5*y[v, 4])\n",
    "    average /= np.sum(y[v, :])\n",
    "    w_average = average * (np.sum(y[v, :])/np.amax(np.sum(y[:, :], axis = 1)))\n",
    "    print(\"Popularity\")\n",
    "    print(popularity[p], w_average)\n",
    "print()\n",
    "for r in range(ratings.shape[0]):\n",
    "    v = int(rat_ind[r])\n",
    "    average = (1*y[v, 0]) + (2*y[v, 1]) + (3*y[v, 2]) + (4*y[v, 3]) + (5*y[v, 4])\n",
    "    average /= np.sum(y[v, :])\n",
    "    w_average = average * (np.sum(y[v, :])/np.amax(np.sum(y[:, :], axis = 1)))\n",
    "    print(\"Ratings\")\n",
    "    print(ratings[r], w_average)\n",
    "#     for r in range(ratings_ignore.shape[0]):\n",
    "#         if ratings_ignore[r] < average:\n",
    "#             ratings_ignore[r] = average\n",
    "#             rat_ignore[r] = movie\n",
    "#             break\n"
   ]
  },
  {
   "cell_type": "code",
   "execution_count": 17,
   "metadata": {},
   "outputs": [
    {
     "data": {
      "image/png": "[encoded data removed]",
      "text/plain": [
       "<Figure size 432x288 with 1 Axes>"
      ]
     },
     "metadata": {
      "needs_background": "light"
     },
     "output_type": "display_data"
    }
   ],
   "source": [
    "# data to plot 4.1\n",
    "n_groups = 5\n",
    "one_rate = 0\n",
    "two_rate = 0\n",
    "three_rate = 0\n",
    "four_rate = 0\n",
    "five_rate = 0\n",
    "\n",
    "for p in range(child.shape[0]):\n",
    "    v = child[p]\n",
    "    one_rate += y[int(v), 0]\n",
    "    two_rate += y[int(v), 1]\n",
    "    three_rate += y[int(v), 2]\n",
    "    four_rate += y[int(v), 3]\n",
    "    five_rate += y[int(v), 4]\n",
    " \n",
    "# create plot\n",
    "fig, ax = plt.subplots()\n",
    "index = np.arange(n_groups)\n",
    "bar_width = 0.5\n",
    "opacity = 0.8\n",
    " \n",
    "rects1 = plt.bar(index, [one_rate, two_rate, three_rate, four_rate, five_rate], bar_width,\n",
    "alpha=opacity,\n",
    "color='r',\n",
    "label='Ratings')\n",
    " \n",
    "plt.xlabel('Movie Ids')\n",
    "plt.ylabel('Ratings')\n",
    "plt.title('Ratings for Children Movies')\n",
    "plt.xticks(index, range(1, 6))\n",
    " \n",
    "plt.tight_layout()\n",
    "plt.show()"
   ]
  },
  {
   "cell_type": "code",
   "execution_count": 18,
   "metadata": {},
   "outputs": [
    {
     "data": {
      "image/png": "[encoded data removed]",
      "text/plain": [
       "<Figure size 432x288 with 1 Axes>"
      ]
     },
     "metadata": {
      "needs_background": "light"
     },
     "output_type": "display_data"
    }
   ],
   "source": [
    "# data to plot 4.1\n",
    "n_groups = 5\n",
    "one_rate = 0\n",
    "two_rate = 0\n",
    "three_rate = 0\n",
    "four_rate = 0\n",
    "five_rate = 0\n",
    "\n",
    "for p in range(fantasy.shape[0]):\n",
    "    v = fantasy[p]\n",
    "    one_rate += y[int(v), 0]\n",
    "    two_rate += y[int(v), 1]\n",
    "    three_rate += y[int(v), 2]\n",
    "    four_rate += y[int(v), 3]\n",
    "    five_rate += y[int(v), 4]\n",
    " \n",
    "# create plot\n",
    "fig, ax = plt.subplots()\n",
    "index = np.arange(n_groups)\n",
    "bar_width = 0.5\n",
    "opacity = 0.8\n",
    " \n",
    "rects1 = plt.bar(index, [one_rate, two_rate, three_rate, four_rate, five_rate], bar_width,\n",
    "alpha=opacity,\n",
    "color='r',\n",
    "label='Ratings')\n",
    " \n",
    "plt.xlabel('Movie Ids')\n",
    "plt.ylabel('Ratings')\n",
    "plt.title('Ratings for Fantasy Movies')\n",
    "plt.xticks(index, range(1, 6))\n",
    " \n",
    "plt.tight_layout()\n",
    "plt.show()"
   ]
  },
  {
   "cell_type": "code",
   "execution_count": 22,
   "metadata": {},
   "outputs": [
    {
     "data": {
      "image/png": "[encoded data removed]",
      "text/plain": [
       "<Figure size 432x288 with 1 Axes>"
      ]
     },
     "metadata": {
      "needs_background": "light"
     },
     "output_type": "display_data"
    }
   ],
   "source": [
    "# data to plot 4.1\n",
    "n_groups = 5\n",
    "one_rate = 0\n",
    "two_rate = 0\n",
    "three_rate = 0\n",
    "four_rate = 0\n",
    "five_rate = 0\n",
    "\n",
    "for p in range(romance.shape[0]):\n",
    "    v = romance[p]\n",
    "    one_rate += y[int(v), 0]\n",
    "    two_rate += y[int(v), 1]\n",
    "    three_rate += y[int(v), 2]\n",
    "    four_rate += y[int(v), 3]\n",
    "    five_rate += y[int(v), 4]\n",
    " \n",
    "# create plot\n",
    "fig, ax = plt.subplots()\n",
    "index = np.arange(n_groups)\n",
    "bar_width = 0.5\n",
    "opacity = 0.8\n",
    " \n",
    "rects1 = plt.bar(index, [one_rate, two_rate, three_rate, four_rate, five_rate], bar_width,\n",
    "alpha=opacity,\n",
    "color='r',\n",
    "label='Ratings')\n",
    " \n",
    "plt.xlabel('Movie Ids')\n",
    "plt.ylabel('Ratings')\n",
    "plt.title('Ratings for Romance Movies')\n",
    "plt.xticks(index, range(1, 6))\n",
    " \n",
    "plt.tight_layout()\n",
    "plt.show()"
   ]
  },
  {
   "cell_type": "code",
   "execution_count": 23,
   "metadata": {},
   "outputs": [
    {
     "data": {
      "image/png": "[encoded data removed]",
      "text/plain": [
       "<Figure size 432x288 with 1 Axes>"
      ]
     },
     "metadata": {
      "needs_background": "light"
     },
     "output_type": "display_data"
    }
   ],
   "source": [
    "# data to plot 4.1\n",
    "n_groups = 5\n",
    "one_rate = 0\n",
    "two_rate = 0\n",
    "three_rate = 0\n",
    "four_rate = 0\n",
    "five_rate = 0\n",
    "\n",
    "for p in range(pop_ind.shape[0]):\n",
    "    v = pop_ind[p]\n",
    "    one_rate += y[int(v), 0]\n",
    "    two_rate += y[int(v), 1]\n",
    "    three_rate += y[int(v), 2]\n",
    "    four_rate += y[int(v), 3]\n",
    "    five_rate += y[int(v), 4]\n",
    " \n",
    "# create plot\n",
    "fig, ax = plt.subplots()\n",
    "index = np.arange(n_groups)\n",
    "bar_width = 0.5\n",
    "opacity = 0.8\n",
    " \n",
    "rects1 = plt.bar(index, [one_rate, two_rate, three_rate, four_rate, five_rate], bar_width,\n",
    "alpha=opacity,\n",
    "color='r',\n",
    "label='Ratings')\n",
    " \n",
    "plt.xlabel('Movie Ids')\n",
    "plt.ylabel('Ratings')\n",
    "plt.title('Ratings for Top 10 Most Popular Movies')\n",
    "plt.xticks(index, range(1, 6))\n",
    " \n",
    "plt.tight_layout()\n",
    "plt.show()"
   ]
  },
  {
   "cell_type": "code",
   "execution_count": 24,
   "metadata": {},
   "outputs": [
    {
     "data": {
      "image/png": "[encoded data removed]",
      "text/plain": [
       "<Figure size 432x288 with 1 Axes>"
      ]
     },
     "metadata": {
      "needs_background": "light"
     },
     "output_type": "display_data"
    }
   ],
   "source": [
    "# data to plot 4.1\n",
    "n_groups = 5\n",
    "one_rate = 0\n",
    "two_rate = 0\n",
    "three_rate = 0\n",
    "four_rate = 0\n",
    "five_rate = 0\n",
    "\n",
    "for p in range(rat_ind.shape[0]):\n",
    "    v = rat_ind[p]\n",
    "    one_rate += y[int(v), 0]\n",
    "    two_rate += y[int(v), 1]\n",
    "    three_rate += y[int(v), 2]\n",
    "    four_rate += y[int(v), 3]\n",
    "    five_rate += y[int(v), 4]\n",
    " \n",
    "# create plot\n",
    "fig, ax = plt.subplots()\n",
    "index = np.arange(n_groups)\n",
    "bar_width = 0.5\n",
    "opacity = 0.8\n",
    " \n",
    "rects1 = plt.bar(index, [one_rate, two_rate, three_rate, four_rate, five_rate], bar_width,\n",
    "alpha=opacity,\n",
    "color='r',\n",
    "label='Ratings')\n",
    " \n",
    "plt.xlabel('Movie Ids')\n",
    "plt.ylabel('Ratings')\n",
    "plt.title('Ratings for Top 10 Highest Rated Movies')\n",
    "plt.xticks(index, range(1, 6))\n",
    " \n",
    "plt.tight_layout()\n",
    "plt.show()"
   ]
  },
  {
   "cell_type": "code",
   "execution_count": 25,
   "metadata": {},
   "outputs": [
    {
     "data": {
      "image/png": "[encoded data removed]",
      "text/plain": [
       "<Figure size 432x288 with 1 Axes>"
      ]
     },
     "metadata": {
      "needs_background": "light"
     },
     "output_type": "display_data"
    }
   ],
   "source": [
    "# data to plot 1 (RIGHT ONE)\n",
    "n_groups = 5\n",
    "one = np.sum(y[:, 0])\n",
    "two = np.sum(y[:, 1])\n",
    "three = np.sum(y[:, 2])\n",
    "four = np.sum(y[:, 3])\n",
    "five = np.sum(y[:, 4])\n",
    " \n",
    "# create plot\n",
    "fig, ax = plt.subplots()\n",
    "index = np.arange(n_groups)\n",
    "bar_width = 0.5\n",
    "opacity = 0.8\n",
    " \n",
    "rects1 = plt.bar(index, [one, two, three, four, five], bar_width,\n",
    "alpha=opacity,\n",
    "color='r',\n",
    "label='Ratings')\n",
    " \n",
    "plt.xlabel('Movie Ids')\n",
    "plt.ylabel('Ratings')\n",
    "plt.title('Total Ratings by Movie')\n",
    "plt.xticks(index, range(1, 6))\n",
    " \n",
    "plt.tight_layout()\n",
    "plt.show()"
   ]
  },
  {
   "cell_type": "code",
   "execution_count": 30,
   "metadata": {},
   "outputs": [
    {
     "data": {
      "image/png": "[encoded data removed]",
      "text/plain": [
       "<Figure size 432x288 with 1 Axes>"
      ]
     },
     "metadata": {
      "needs_background": "light"
     },
     "output_type": "display_data"
    }
   ],
   "source": [
    "# data to plot 4.2\n",
    "n_groups = fantasy.shape[0]\n",
    "one_rate = np.zeros(n_groups)\n",
    "two_rate = np.zeros(n_groups)\n",
    "three_rate = np.zeros(n_groups)\n",
    "four_rate = np.zeros(n_groups)\n",
    "five_rate = np.zeros(n_groups)\n",
    "\n",
    "for p in range(n_groups):\n",
    "    v = fantasy[p]\n",
    "    one_rate[p] = y[int(v), 0]\n",
    "    two_rate[p] = y[int(v), 1]\n",
    "    three_rate[p] = y[int(v), 2]\n",
    "    four_rate[p] = y[int(v), 3]\n",
    "    five_rate[p] = y[int(v), 4]\n",
    " \n",
    "# create plot\n",
    "fig, ax = plt.subplots()\n",
    "index = np.arange(n_groups)\n",
    "bar_width = 0.15\n",
    "opacity = 0.8\n",
    " \n",
    "rects1 = plt.bar(index, one_rate, bar_width,\n",
    "alpha=opacity,\n",
    "color='r',\n",
    "label='1-rated')\n",
    " \n",
    "rects2 = plt.bar(index + bar_width, two_rate, bar_width,\n",
    "alpha=opacity,\n",
    "color='b',\n",
    "label='2-rated')\n",
    "\n",
    "rects3 = plt.bar(index + 2 * bar_width, three_rate, bar_width,\n",
    "alpha=opacity,\n",
    "color='g',\n",
    "label='3-rated')\n",
    "\n",
    "rects4 = plt.bar(index + 3 * bar_width, four_rate, bar_width,\n",
    "alpha=opacity,\n",
    "color='c',\n",
    "label='4-rated')\n",
    "\n",
    "rects5 = plt.bar(index + 4 * bar_width, five_rate, bar_width,\n",
    "alpha=opacity,\n",
    "color='k',\n",
    "label='5-rated')\n",
    " \n",
    "plt.xlabel('Movie Ids')\n",
    "plt.ylabel('Ratings')\n",
    "plt.title('Ratings for Fantasy Movies')\n",
    "plt.legend()\n",
    " \n",
    "plt.tight_layout()\n",
    "plt.show()"
   ]
  },
  {
   "cell_type": "code",
   "execution_count": 31,
   "metadata": {},
   "outputs": [
    {
     "data": {
      "image/png": "[encoded data removed]",
      "text/plain": [
       "<Figure size 432x288 with 1 Axes>"
      ]
     },
     "metadata": {
      "needs_background": "light"
     },
     "output_type": "display_data"
    }
   ],
   "source": [
    "# data to plot 4.3\n",
    "n_groups = romance.shape[0]\n",
    "one_rate = np.zeros(n_groups)\n",
    "two_rate = np.zeros(n_groups)\n",
    "three_rate = np.zeros(n_groups)\n",
    "four_rate = np.zeros(n_groups)\n",
    "five_rate = np.zeros(n_groups)\n",
    "\n",
    "for p in range(n_groups):\n",
    "    v = romance[p]\n",
    "    one_rate[p] = y[int(v), 0]\n",
    "    two_rate[p] = y[int(v), 1]\n",
    "    three_rate[p] = y[int(v), 2]\n",
    "    four_rate[p] = y[int(v), 3]\n",
    "    five_rate[p] = y[int(v), 4]\n",
    " \n",
    "# create plot\n",
    "fig, ax = plt.subplots()\n",
    "index = np.arange(n_groups)\n",
    "bar_width = 0.15\n",
    "opacity = 0.8\n",
    " \n",
    "rects1 = plt.bar(index, one_rate, bar_width,\n",
    "alpha=opacity,\n",
    "color='r',\n",
    "label='1-rated')\n",
    " \n",
    "rects2 = plt.bar(index + bar_width, two_rate, bar_width,\n",
    "alpha=opacity,\n",
    "color='b',\n",
    "label='2-rated')\n",
    "\n",
    "rects3 = plt.bar(index + 2 * bar_width, three_rate, bar_width,\n",
    "alpha=opacity,\n",
    "color='g',\n",
    "label='3-rated')\n",
    "\n",
    "rects4 = plt.bar(index + 3 * bar_width, four_rate, bar_width,\n",
    "alpha=opacity,\n",
    "color='c',\n",
    "label='4-rated')\n",
    "\n",
    "rects5 = plt.bar(index + 4 * bar_width, five_rate, bar_width,\n",
    "alpha=opacity,\n",
    "color='k',\n",
    "label='5-rated')\n",
    " \n",
    "plt.xlabel('Movie Ids')\n",
    "plt.ylabel('Ratings')\n",
    "plt.title('Ratings for Romance Movies')\n",
    "plt.legend()\n",
    " \n",
    "plt.tight_layout()\n",
    "plt.show()"
   ]
  },
  {
   "cell_type": "code",
   "execution_count": 12,
   "metadata": {},
   "outputs": [
    {
     "data": {
      "image/png": "[encoded data removed]",
      "text/plain": [
       "<Figure size 432x288 with 1 Axes>"
      ]
     },
     "metadata": {
      "needs_background": "light"
     },
     "output_type": "display_data"
    }
   ],
   "source": [
    "# data to plot 2\n",
    "n_groups = 10\n",
    "one_rate = np.zeros(10)\n",
    "two_rate = np.zeros(10)\n",
    "three_rate = np.zeros(10)\n",
    "four_rate = np.zeros(10)\n",
    "five_rate = np.zeros(10)\n",
    "\n",
    "for p in range(pop_ind.shape[0]):\n",
    "    v = pop_ind[p]\n",
    "    one_rate[p] = y[int(v), 0]\n",
    "    two_rate[p] = y[int(v), 1]\n",
    "    three_rate[p] = y[int(v), 2]\n",
    "    four_rate[p] = y[int(v), 3]\n",
    "    five_rate[p] = y[int(v), 4]\n",
    " \n",
    "# create plot\n",
    "fig, ax = plt.subplots()\n",
    "index = np.arange(n_groups)\n",
    "bar_width = 0.15\n",
    "opacity = 0.8\n",
    " \n",
    "rects1 = plt.bar(index, one_rate, bar_width,\n",
    "alpha=opacity,\n",
    "color='r',\n",
    "label='1-rated')\n",
    " \n",
    "rects2 = plt.bar(index + bar_width, two_rate, bar_width,\n",
    "alpha=opacity,\n",
    "color='b',\n",
    "label='2-rated')\n",
    "\n",
    "rects3 = plt.bar(index + 2 * bar_width, three_rate, bar_width,\n",
    "alpha=opacity,\n",
    "color='g',\n",
    "label='3-rated')\n",
    "\n",
    "rects4 = plt.bar(index + 3 * bar_width, four_rate, bar_width,\n",
    "alpha=opacity,\n",
    "color='c',\n",
    "label='4-rated')\n",
    "\n",
    "rects5 = plt.bar(index + 4 * bar_width, five_rate, bar_width,\n",
    "alpha=opacity,\n",
    "color='k',\n",
    "label='5-rated')\n",
    " \n",
    "plt.xlabel('Movie Ids')\n",
    "plt.ylabel('Ratings')\n",
    "plt.title('Ratings for Top 10 Most Popular Movies')\n",
    "plt.xticks(index + 2 * bar_width, (pop_ind[:]+1))\n",
    "plt.legend()\n",
    " \n",
    "plt.tight_layout()\n",
    "plt.show()"
   ]
  },
  {
   "cell_type": "code",
   "execution_count": 11,
   "metadata": {},
   "outputs": [
    {
     "data": {
      "image/png": "[encoded data removed]",
      "text/plain": [
       "<Figure size 432x288 with 1 Axes>"
      ]
     },
     "metadata": {
      "needs_background": "light"
     },
     "output_type": "display_data"
    }
   ],
   "source": [
    "# data to plot 3\n",
    "n_groups = 10\n",
    "one_rate = np.zeros(10)\n",
    "two_rate = np.zeros(10)\n",
    "three_rate = np.zeros(10)\n",
    "four_rate = np.zeros(10)\n",
    "five_rate = np.zeros(10)\n",
    "\n",
    "for r in range(pop_ind.shape[0]):\n",
    "    v = rat_ind[r]\n",
    "    one_rate[r] = y[int(v), 0]\n",
    "    two_rate[r] = y[int(v), 1]\n",
    "    three_rate[r] = y[int(v), 2]\n",
    "    four_rate[r] = y[int(v), 3]\n",
    "    five_rate[r] = y[int(v), 4]\n",
    " \n",
    "# create plot\n",
    "fig, ax = plt.subplots()\n",
    "index = np.arange(n_groups)\n",
    "bar_width = 0.15\n",
    "opacity = 0.8\n",
    " \n",
    "rects1 = plt.bar(index, one_rate, bar_width,\n",
    "alpha=opacity,\n",
    "color='r',\n",
    "label='1-rated')\n",
    " \n",
    "rects2 = plt.bar(index + bar_width, two_rate, bar_width,\n",
    "alpha=opacity,\n",
    "color='b',\n",
    "label='2-rated')\n",
    "\n",
    "rects3 = plt.bar(index + 2 * bar_width, three_rate, bar_width,\n",
    "alpha=opacity,\n",
    "color='g',\n",
    "label='3-rated')\n",
    "\n",
    "rects4 = plt.bar(index + 3 * bar_width, four_rate, bar_width,\n",
    "alpha=opacity,\n",
    "color='c',\n",
    "label='4-rated')\n",
    "\n",
    "rects5 = plt.bar(index + 4 * bar_width, five_rate, bar_width,\n",
    "alpha=opacity,\n",
    "color='k',\n",
    "label='5-rated')\n",
    " \n",
    "plt.xlabel('Movie Ids')\n",
    "plt.ylabel('Ratings')\n",
    "plt.title('Ratings for Top 10 Highest Rated Movies')\n",
    "plt.xticks(index + 2 * bar_width, (rat_ind[:]+1))\n",
    "plt.legend()\n",
    " \n",
    "plt.tight_layout()\n",
    "plt.show()"
   ]
  },
  {
   "cell_type": "code",
   "execution_count": 11,
   "metadata": {},
   "outputs": [
    {
     "data": {
      "image/png": "[encoded data removed]",
      "text/plain": [
       "<Figure size 432x288 with 1 Axes>"
      ]
     },
     "metadata": {
      "needs_background": "light"
     },
     "output_type": "display_data"
    }
   ],
   "source": [
    "# data to plot 1\n",
    "n_groups = 29\n",
    "\n",
    "one_rate = np.zeros(29)\n",
    "two_rate = np.zeros(29)\n",
    "three_rate = np.zeros(29)\n",
    "four_rate = np.zeros(29)\n",
    "five_rate = np.zeros(29)\n",
    "counter = 0\n",
    "\n",
    "for i in range(0, movies.shape[0] - 1, 58):\n",
    "    one_rate[counter] = np.sum(y[i:i+58, 0])\n",
    "    two_rate[counter] = np.sum(y[i:i+58, 1])\n",
    "    three_rate[counter] = np.sum(y[i:i+58, 2])\n",
    "    four_rate[counter] = np.sum(y[i:i+58, 3])\n",
    "    five_rate[counter] = np.sum(y[i:i+58, 4])\n",
    "    counter += 1\n",
    "\n",
    "fig, ax = plt.subplots()\n",
    "index = np.arange(n_groups)\n",
    "bar_width = 0.15\n",
    "opacity = 0.8\n",
    " \n",
    "rects1 = plt.bar(index, one_rate, bar_width,\n",
    "alpha=opacity,\n",
    "color='r',\n",
    "label='1-rated')\n",
    "\n",
    "rects2 = plt.bar(index + bar_width, two_rate, bar_width,\n",
    "alpha=opacity,\n",
    "color='b',\n",
    "label='2-rated')\n",
    "\n",
    "rects3 = plt.bar(index + 2 * bar_width, three_rate, bar_width,\n",
    "alpha=opacity,\n",
    "color='g',\n",
    "label='3-rated')\n",
    "\n",
    "rects4 = plt.bar(index + 3 * bar_width, four_rate, bar_width,\n",
    "alpha=opacity,\n",
    "color='c',\n",
    "label='4-rated')\n",
    "\n",
    "rects5 = plt.bar(index + 4 * bar_width, five_rate, bar_width,\n",
    "alpha=opacity,\n",
    "color='k',\n",
    "label='5-rated')\n",
    "\n",
    "plt.xlabel('Movie Ids')\n",
    "plt.ylabel('Ratings')\n",
    "plt.title('Total Ratings by Movie (Bins 1-29 of Size 58)')\n",
    "plt.legend()\n",
    "plt.xticks(index, range(1, 30))\n",
    " \n",
    "plt.tight_layout()\n",
    "plt.show()"
   ]
  },
  {
   "cell_type": "code",
   "execution_count": null,
   "metadata": {},
   "outputs": [],
   "source": [
    "# data to plot\n",
    "n_groups = 29\n",
    "\n",
    "one_rate = np.zeros(58)\n",
    "two_rate = np.zeros(58)\n",
    "three_rate = np.zeros(58)\n",
    "four_rate = np.zeros(58)\n",
    "five_rate = np.zeros(58)\n",
    "\n",
    "for i in range(0, movies.shape[0] - 1, 58):\n",
    "    \n",
    " \n",
    "# create plot\n",
    "fig, ax = plt.subplots()\n",
    "index = np.arange(n_groups)\n",
    "bar_width = 0.15\n",
    "opacity = 0.8\n",
    " \n",
    "rects1 = plt.bar(index, one_rate, bar_width,\n",
    "alpha=opacity,\n",
    "color='r',\n",
    "label='1-rated')\n",
    " \n",
    "rects2 = plt.bar(index + bar_width, two_rate, bar_width,\n",
    "alpha=opacity,\n",
    "color='b',\n",
    "label='2-rated')\n",
    "\n",
    "rects3 = plt.bar(index + 2 * bar_width, three_rate, bar_width,\n",
    "alpha=opacity,\n",
    "color='g',\n",
    "label='3-rated')\n",
    "\n",
    "rects4 = plt.bar(index + 3 * bar_width, four_rate, bar_width,\n",
    "alpha=opacity,\n",
    "color='c',\n",
    "label='4-rated')\n",
    "\n",
    "rects5 = plt.bar(index + 4 * bar_width, five_rate, bar_width,\n",
    "alpha=opacity,\n",
    "color='k',\n",
    "label='5-rated')\n",
    " \n",
    "plt.xlabel('Movie Ids')\n",
    "plt.ylabel('Ratings')\n",
    "plt.title('Total Ratings by Movie')\n",
    "plt.legend()\n",
    " \n",
    "plt.tight_layout()\n",
    "plt.show()"
   ]
  },
  {
   "cell_type": "code",
   "execution_count": 164,
   "metadata": {},
   "outputs": [
    {
     "data": {
      "image/png": "[encoded data removed]",
      "text/plain": [
       "<Figure size 432x288 with 1 Axes>"
      ]
     },
     "metadata": {
      "needs_background": "light"
     },
     "output_type": "display_data"
    }
   ],
   "source": [
    "# data to plot 1 (RIGHT ONE)\n",
    "n_groups = 5\n",
    "one = np.sum(y[:, 0])\n",
    "two = np.sum(y[:, 1])\n",
    "three = np.sum(y[:, 2])\n",
    "four = np.sum(y[:, 3])\n",
    "five = np.sum(y[:, 4])\n",
    " \n",
    "# create plot\n",
    "fig, ax = plt.subplots()\n",
    "index = np.arange(n_groups)\n",
    "bar_width = 0.5\n",
    "opacity = 0.8\n",
    " \n",
    "rects1 = plt.bar(index, [one, two, three, four, five], bar_width,\n",
    "alpha=opacity,\n",
    "color='r',\n",
    "label='Ratings')\n",
    " \n",
    "plt.xlabel('Movie Ids')\n",
    "plt.ylabel('Ratings')\n",
    "plt.title('Total Ratings by Movie')\n",
    "plt.xticks(index, range(1, 6))\n",
    " \n",
    "plt.tight_layout()\n",
    "plt.show()"
   ]
  },
  {
   "cell_type": "code",
   "execution_count": 116,
   "metadata": {},
   "outputs": [
    {
     "data": {
      "image/png": "[encoded data removed]",
      "text/plain": [
       "<Figure size 432x288 with 1 Axes>"
      ]
     },
     "metadata": {
      "needs_background": "light"
     },
     "output_type": "display_data"
    }
   ],
   "source": [
    "# data to plot\n",
    "n_groups = movies.shape[0]\n",
    "one_rate = y[:, 0]\n",
    "two_rate = y[:, 1]\n",
    "three_rate = y[:, 2]\n",
    "four_rate = y[:, 3]\n",
    "five_rate = y[:, 4]\n",
    " \n",
    "# create plot\n",
    "fig, ax = plt.subplots()\n",
    "index = np.arange(n_groups)\n",
    "bar_width = 0.15\n",
    "opacity = 0.8\n",
    " \n",
    "rects1 = plt.bar(index, one_rate, bar_width,\n",
    "alpha=opacity,\n",
    "color='r',\n",
    "label='1-rated')\n",
    " \n",
    "rects2 = plt.bar(index + bar_width, two_rate, bar_width,\n",
    "alpha=opacity,\n",
    "color='b',\n",
    "label='2-rated')\n",
    "\n",
    "rects3 = plt.bar(index + 2 * bar_width, three_rate, bar_width,\n",
    "alpha=opacity,\n",
    "color='g',\n",
    "label='3-rated')\n",
    "\n",
    "rects4 = plt.bar(index + 3 * bar_width, four_rate, bar_width,\n",
    "alpha=opacity,\n",
    "color='c',\n",
    "label='4-rated')\n",
    "\n",
    "rects5 = plt.bar(index + 4 * bar_width, five_rate, bar_width,\n",
    "alpha=opacity,\n",
    "color='k',\n",
    "label='5-rated')\n",
    " \n",
    "plt.xlabel('Movie Ids')\n",
    "plt.ylabel('Ratings')\n",
    "plt.title('Total Ratings by Movie')\n",
    "plt.legend()\n",
    " \n",
    "plt.tight_layout()\n",
    "plt.show()"
   ]
  },
  {
   "cell_type": "code",
   "execution_count": 115,
   "metadata": {},
   "outputs": [
    {
     "data": {
      "image/png": "[encoded data removed]",
      "text/plain": [
       "<Figure size 432x288 with 1 Axes>"
      ]
     },
     "metadata": {
      "needs_background": "light"
     },
     "output_type": "display_data"
    }
   ],
   "source": [
    "# data to plot\n",
    "n_groups = 2\n",
    "one_rate = y[:, 0][0:2]\n",
    "two_rate = y[:, 1][0:2]\n",
    "three_rate = y[:, 2][0:2]\n",
    "four_rate = y[:, 3][0:2]\n",
    "five_rate = y[:, 4][0:2]\n",
    " \n",
    "# create plot\n",
    "fig, ax = plt.subplots()\n",
    "index = np.arange(n_groups)\n",
    "bar_width = 0.15\n",
    "opacity = 0.8\n",
    " \n",
    "rects1 = plt.bar(index, one_rate, bar_width,\n",
    "alpha=opacity,\n",
    "color='r',\n",
    "label='1-rated')\n",
    " \n",
    "rects2 = plt.bar(index + bar_width, two_rate, bar_width,\n",
    "alpha=opacity,\n",
    "color='b',\n",
    "label='2-rated')\n",
    "\n",
    "rects3 = plt.bar(index + 2 * bar_width, three_rate, bar_width,\n",
    "alpha=opacity,\n",
    "color='g',\n",
    "label='3-rated')\n",
    "\n",
    "rects4 = plt.bar(index + 3 * bar_width, four_rate, bar_width,\n",
    "alpha=opacity,\n",
    "color='c',\n",
    "label='4-rated')\n",
    "\n",
    "rects5 = plt.bar(index + 4 * bar_width, five_rate, bar_width,\n",
    "alpha=opacity,\n",
    "color='k',\n",
    "label='5-rated')\n",
    " \n",
    "plt.xlabel('Movie Ids')\n",
    "plt.ylabel('Ratings')\n",
    "plt.title('Total Ratings by Movie')\n",
    "plt.xticks(index + 2 * bar_width, range(1, 1683))\n",
    "plt.legend()\n",
    " \n",
    "plt.tight_layout()\n",
    "plt.show()"
   ]
  },
  {
   "cell_type": "code",
   "execution_count": 188,
   "metadata": {},
   "outputs": [
    {
     "data": {
      "text/plain": [
       "array([4.35849057, 4.15551181, 4.28329298, 3.55023923, 4.00788955,\n",
       "       3.57692308, 3.79846939, 3.99543379, 3.89632107, 3.83146067])"
      ]
     },
     "execution_count": 188,
     "metadata": {},
     "output_type": "execute_result"
    }
   ],
   "source": [
    "ratings"
   ]
  },
  {
   "cell_type": "code",
   "execution_count": 136,
   "metadata": {},
   "outputs": [
    {
     "data": {
      "text/plain": [
       "583.0"
      ]
     },
     "execution_count": 136,
     "metadata": {},
     "output_type": "execute_result"
    }
   ],
   "source": [
    "np.sum(y[, :])"
   ]
  },
  {
   "cell_type": "code",
   "execution_count": null,
   "metadata": {},
   "outputs": [],
   "source": []
  }
 ],
 "metadata": {
  "kernelspec": {
   "display_name": "Python 3",
   "language": "python",
   "name": "python3"
  },
  "language_info": {
   "codemirror_mode": {
    "name": "ipython",
    "version": 3
   },
   "file_extension": ".py",
   "mimetype": "text/x-python",
   "name": "python",
   "nbconvert_exporter": "python",
   "pygments_lexer": "ipython3",
   "version": "3.6.3"
  }
 },
 "nbformat": 4,
 "nbformat_minor": 2
}
