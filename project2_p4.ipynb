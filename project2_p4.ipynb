{
 "cells": [
  {
   "cell_type": "code",
   "execution_count": 2,
   "metadata": {},
   "outputs": [],
   "source": [
    "import matplotlib.pyplot as plt\n",
    "import numpy as np\n",
    "from matplotlib import colors\n",
    "\n",
    "def load_data(filename, usecols = (), skiprows = 0):\n",
    "    \"\"\"\n",
    "    Function loads data stored in the file filename and returns it as a numpy ndarray.\n",
    "    \n",
    "    Inputs:\n",
    "        filename: given as a string.\n",
    "        \n",
    "    Outputs:\n",
    "        Data contained in the file, returned as a numpy ndarray\n",
    "    \"\"\"\n",
    "    return np.loadtxt(filename, skiprows=skiprows, delimiter=',', usecols= usecols)"
   ]
  },
  {
   "cell_type": "code",
   "execution_count": 3,
   "metadata": {},
   "outputs": [],
   "source": [
    "movies = load_data('data/movies.csv', usecols = range(2, 20))\n",
    "movies = np.concatenate((np.array([x for x in range(1, movies.shape[0] + 1)])[:, np.newaxis], movies), axis=1)\n"
   ]
  },
  {
   "cell_type": "code",
   "execution_count": 4,
   "metadata": {},
   "outputs": [],
   "source": [
    "user_data = load_data('data/data.csv', skiprows = 1)"
   ]
  },
  {
   "cell_type": "code",
   "execution_count": 16,
   "metadata": {},
   "outputs": [
    {
     "name": "stdout",
     "output_type": "stream",
     "text": [
      "Popularity\n",
      "583.0 4.3584905660377355\n",
      "Popularity\n",
      "509.0 3.3207547169811322\n",
      "Popularity\n",
      "507.0 3.485420240137221\n",
      "Popularity\n",
      "485.0 2.6260720411663807\n",
      "Popularity\n",
      "478.0 2.8216123499142367\n",
      "Popularity\n",
      "431.0 2.684391080617496\n",
      "Popularity\n",
      "350.0 2.548885077186964\n",
      "Popularity\n",
      "344.0 1.955403087478559\n",
      "Popularity\n",
      "316.0 1.6929674099485421\n",
      "Popularity\n",
      "298.0 2.2830188679245285\n",
      "\n",
      "Ratings\n",
      "4.3584905660377355 4.3584905660377355\n",
      "Ratings\n",
      "3.620926243567753 3.620926243567753\n",
      "Ratings\n",
      "3.485420240137221 3.485420240137221\n",
      "Ratings\n",
      "3.3207547169811322 3.3207547169811322\n",
      "Ratings\n",
      "3.0171526586620923 3.0171526586620923\n",
      "Ratings\n",
      "2.8216123499142367 2.8216123499142367\n",
      "Ratings\n",
      "2.684391080617496 2.684391080617496\n",
      "Ratings\n",
      "2.548885077186964 2.548885077186964\n",
      "Ratings\n",
      "2.2830188679245285 2.2830188679245285\n",
      "Ratings\n",
      "1.9725557461406518 1.9725557461406518\n"
     ]
    }
   ],
   "source": [
    "# Basic Visualization Arrays\n",
    "x = movies[:, 0]\n",
    "y = np.zeros((movies.shape[0], 5))\n",
    "popularity = np.zeros(10)\n",
    "pop_ind = np.zeros(10)\n",
    "ratings = np.zeros(10)\n",
    "rat_ind = np.zeros(10)\n",
    "child = np.array([])\n",
    "fantasy = np.array([])\n",
    "romance = np.array([])\n",
    "# ratings_ignore = np.zeros(10)\n",
    "# rat_ignore = np.zeros(10)\n",
    "\n",
    "# Convert User data to Rating data by Movie\n",
    "for user in range(user_data.shape[0]):\n",
    "    y[int(user_data[user, 1]-1), int(user_data[user, 2]) - 1] += 1\n",
    "\n",
    "for movie in range(y.shape[0]):\n",
    "    # Find the weighted average rating for movie to determine top 10 rated movies\n",
    "    average = (1*y[movie, 0]) + (2*y[movie, 1]) + (3*y[movie, 2]) + (4*y[movie, 3]) + (5*y[movie, 4])\n",
    "    average /= np.sum(y[movie, :])\n",
    "    w_average = average * (np.sum(y[movie, :])/np.amax(np.sum(y[:, :], axis = 1)))\n",
    "    # Generate popularity and rating arrays\n",
    "    for p in range(popularity.shape[0]):\n",
    "        if popularity[p] < np.sum(y[movie, :]):\n",
    "            popularity[p] = np.sum(y[movie, :])\n",
    "            pop_ind[p] = movie\n",
    "            break\n",
    "    for r in range(ratings.shape[0]):\n",
    "        if ratings[r] < w_average:\n",
    "            ratings[r] = w_average\n",
    "            rat_ind[r] = movie\n",
    "            break\n",
    "    # Generate genre based arrays\n",
    "    if movies[movie, 4] == 1 and movie not in child:\n",
    "        child = np.append(child, movie)\n",
    "    if movies[movie, 9] == 1 and movie not in fantasy:\n",
    "        fantasy = np.append(fantasy, movie)\n",
    "    if movies[movie, 14] == 1 and movie not in romance:\n",
    "        romance = np.append(romance, movie)\n",
    "# Sanity check to see that highest rated movies are indeed highest rated\n",
    "for p in range(popularity.shape[0]):\n",
    "    v = int(pop_ind[p])\n",
    "    average = (1*y[v, 0]) + (2*y[v, 1]) + (3*y[v, 2]) + (4*y[v, 3]) + (5*y[v, 4])\n",
    "    average /= np.sum(y[v, :])\n",
    "    w_average = average * (np.sum(y[v, :])/np.amax(np.sum(y[:, :], axis = 1)))\n",
    "    print(\"Popularity\")\n",
    "    print(popularity[p], w_average)\n",
    "print()\n",
    "for r in range(ratings.shape[0]):\n",
    "    v = int(rat_ind[r])\n",
    "    average = (1*y[v, 0]) + (2*y[v, 1]) + (3*y[v, 2]) + (4*y[v, 3]) + (5*y[v, 4])\n",
    "    average /= np.sum(y[v, :])\n",
    "    w_average = average * (np.sum(y[v, :])/np.amax(np.sum(y[:, :], axis = 1)))\n",
    "    print(\"Ratings\")\n",
    "    print(ratings[r], w_average)\n",
    "#     for r in range(ratings_ignore.shape[0]):\n",
    "#         if ratings_ignore[r] < average:\n",
    "#             ratings_ignore[r] = average\n",
    "#             rat_ignore[r] = movie\n",
    "#             break\n"
   ]
  },
  {
   "cell_type": "code",
   "execution_count": 17,
   "metadata": {},
   "outputs": [
    {
     "data": {
      "image/png": "[encoded data removed]",
      "text/plain": [
       "<Figure size 432x288 with 1 Axes>"
      ]
     },
     "metadata": {
      "needs_background": "light"
     },
     "output_type": "display_data"
    }
   ],
   "source": [
    "# data to plot 4.1\n",
    "n_groups = 5\n",
    "one_rate = 0\n",
    "two_rate = 0\n",
    "three_rate = 0\n",
    "four_rate = 0\n",
    "five_rate = 0\n",
    "\n",
    "for p in range(child.shape[0]):\n",
    "    v = child[p]\n",
    "    one_rate += y[int(v), 0]\n",
    "    two_rate += y[int(v), 1]\n",
    "    three_rate += y[int(v), 2]\n",
    "    four_rate += y[int(v), 3]\n",
    "    five_rate += y[int(v), 4]\n",
    " \n",
    "# create plot\n",
    "fig, ax = plt.subplots()\n",
    "index = np.arange(n_groups)\n",
    "bar_width = 0.5\n",
    "opacity = 0.8\n",
    " \n",
    "rects1 = plt.bar(index, [one_rate, two_rate, three_rate, four_rate, five_rate], bar_width,\n",
    "alpha=opacity,\n",
    "color='r',\n",
    "label='Ratings')\n",
    " \n",
    "plt.xlabel('Movie Ids')\n",
    "plt.ylabel('Ratings')\n",
    "plt.title('Ratings for Children Movies')\n",
    "plt.xticks(index, range(1, 6))\n",
    " \n",
    "plt.tight_layout()\n",
    "plt.show()"
   ]
  },
  {
   "cell_type": "code",
   "execution_count": 18,
   "metadata": {},
   "outputs": [
    {
     "data": {
      "image/png": "[encoded data removed]",
      "text/plain": [
       "<Figure size 432x288 with 1 Axes>"
      ]
     },
     "metadata": {
      "needs_background": "light"
     },
     "output_type": "display_data"
    }
   ],
   "source": [
    "# data to plot 4.2\n",
    "n_groups = 5\n",
    "one_rate = 0\n",
    "two_rate = 0\n",
    "three_rate = 0\n",
    "four_rate = 0\n",
    "five_rate = 0\n",
    "\n",
    "for p in range(fantasy.shape[0]):\n",
    "    v = fantasy[p]\n",
    "    one_rate += y[int(v), 0]\n",
    "    two_rate += y[int(v), 1]\n",
    "    three_rate += y[int(v), 2]\n",
    "    four_rate += y[int(v), 3]\n",
    "    five_rate += y[int(v), 4]\n",
    " \n",
    "# create plot\n",
    "fig, ax = plt.subplots()\n",
    "index = np.arange(n_groups)\n",
    "bar_width = 0.5\n",
    "opacity = 0.8\n",
    " \n",
    "rects1 = plt.bar(index, [one_rate, two_rate, three_rate, four_rate, five_rate], bar_width,\n",
    "alpha=opacity,\n",
    "color='r',\n",
    "label='Ratings')\n",
    " \n",
    "plt.xlabel('Movie Ids')\n",
    "plt.ylabel('Ratings')\n",
    "plt.title('Ratings for Fantasy Movies')\n",
    "plt.xticks(index, range(1, 6))\n",
    " \n",
    "plt.tight_layout()\n",
    "plt.show()"
   ]
  },
  {
   "cell_type": "code",
   "execution_count": 22,
   "metadata": {},
   "outputs": [
    {
     "data": {
      "image/png": "[encoded data removed]",
      "text/plain": [
       "<Figure size 432x288 with 1 Axes>"
      ]
     },
     "metadata": {
      "needs_background": "light"
     },
     "output_type": "display_data"
    }
   ],
   "source": [
    "# data to plot 4.3\n",
    "n_groups = 5\n",
    "one_rate = 0\n",
    "two_rate = 0\n",
    "three_rate = 0\n",
    "four_rate = 0\n",
    "five_rate = 0\n",
    "\n",
    "for p in range(romance.shape[0]):\n",
    "    v = romance[p]\n",
    "    one_rate += y[int(v), 0]\n",
    "    two_rate += y[int(v), 1]\n",
    "    three_rate += y[int(v), 2]\n",
    "    four_rate += y[int(v), 3]\n",
    "    five_rate += y[int(v), 4]\n",
    " \n",
    "# create plot\n",
    "fig, ax = plt.subplots()\n",
    "index = np.arange(n_groups)\n",
    "bar_width = 0.5\n",
    "opacity = 0.8\n",
    " \n",
    "rects1 = plt.bar(index, [one_rate, two_rate, three_rate, four_rate, five_rate], bar_width,\n",
    "alpha=opacity,\n",
    "color='r',\n",
    "label='Ratings')\n",
    " \n",
    "plt.xlabel('Movie Ids')\n",
    "plt.ylabel('Ratings')\n",
    "plt.title('Ratings for Romance Movies')\n",
    "plt.xticks(index, range(1, 6))\n",
    " \n",
    "plt.tight_layout()\n",
    "plt.show()"
   ]
  },
  {
   "cell_type": "code",
   "execution_count": 23,
   "metadata": {},
   "outputs": [
    {
     "data": {
      "image/png": "[encoded data removed]",
      "text/plain": [
       "<Figure size 432x288 with 1 Axes>"
      ]
     },
     "metadata": {
      "needs_background": "light"
     },
     "output_type": "display_data"
    }
   ],
   "source": [
    "# data to plot 2\n",
    "n_groups = 5\n",
    "one_rate = 0\n",
    "two_rate = 0\n",
    "three_rate = 0\n",
    "four_rate = 0\n",
    "five_rate = 0\n",
    "\n",
    "for p in range(pop_ind.shape[0]):\n",
    "    v = pop_ind[p]\n",
    "    one_rate += y[int(v), 0]\n",
    "    two_rate += y[int(v), 1]\n",
    "    three_rate += y[int(v), 2]\n",
    "    four_rate += y[int(v), 3]\n",
    "    five_rate += y[int(v), 4]\n",
    " \n",
    "# create plot\n",
    "fig, ax = plt.subplots()\n",
    "index = np.arange(n_groups)\n",
    "bar_width = 0.5\n",
    "opacity = 0.8\n",
    " \n",
    "rects1 = plt.bar(index, [one_rate, two_rate, three_rate, four_rate, five_rate], bar_width,\n",
    "alpha=opacity,\n",
    "color='r',\n",
    "label='Ratings')\n",
    " \n",
    "plt.xlabel('Movie Ids')\n",
    "plt.ylabel('Ratings')\n",
    "plt.title('Ratings for Top 10 Most Popular Movies')\n",
    "plt.xticks(index, range(1, 6))\n",
    " \n",
    "plt.tight_layout()\n",
    "plt.show()"
   ]
  },
  {
   "cell_type": "code",
   "execution_count": 24,
   "metadata": {},
   "outputs": [
    {
     "data": {
      "image/png": "[encoded data removed]",
      "text/plain": [
       "<Figure size 432x288 with 1 Axes>"
      ]
     },
     "metadata": {
      "needs_background": "light"
     },
     "output_type": "display_data"
    }
   ],
   "source": [
    "# data to plot 3\n",
    "n_groups = 5\n",
    "one_rate = 0\n",
    "two_rate = 0\n",
    "three_rate = 0\n",
    "four_rate = 0\n",
    "five_rate = 0\n",
    "\n",
    "for p in range(rat_ind.shape[0]):\n",
    "    v = rat_ind[p]\n",
    "    one_rate += y[int(v), 0]\n",
    "    two_rate += y[int(v), 1]\n",
    "    three_rate += y[int(v), 2]\n",
    "    four_rate += y[int(v), 3]\n",
    "    five_rate += y[int(v), 4]\n",
    " \n",
    "# create plot\n",
    "fig, ax = plt.subplots()\n",
    "index = np.arange(n_groups)\n",
    "bar_width = 0.5\n",
    "opacity = 0.8\n",
    " \n",
    "rects1 = plt.bar(index, [one_rate, two_rate, three_rate, four_rate, five_rate], bar_width,\n",
    "alpha=opacity,\n",
    "color='r',\n",
    "label='Ratings')\n",
    " \n",
    "plt.xlabel('Movie Ids')\n",
    "plt.ylabel('Ratings')\n",
    "plt.title('Ratings for Top 10 Highest Rated Movies')\n",
    "plt.xticks(index, range(1, 6))\n",
    " \n",
    "plt.tight_layout()\n",
    "plt.show()"
   ]
  },
  {
   "cell_type": "code",
   "execution_count": 25,
   "metadata": {},
   "outputs": [
    {
     "data": {
      "image/png": "[encoded data removed]",
      "text/plain": [
       "<Figure size 432x288 with 1 Axes>"
      ]
     },
     "metadata": {
      "needs_background": "light"
     },
     "output_type": "display_data"
    }
   ],
   "source": [
    "# data to plot 1\n",
    "n_groups = 5\n",
    "one = np.sum(y[:, 0])\n",
    "two = np.sum(y[:, 1])\n",
    "three = np.sum(y[:, 2])\n",
    "four = np.sum(y[:, 3])\n",
    "five = np.sum(y[:, 4])\n",
    " \n",
    "# create plot\n",
    "fig, ax = plt.subplots()\n",
    "index = np.arange(n_groups)\n",
    "bar_width = 0.5\n",
    "opacity = 0.8\n",
    " \n",
    "rects1 = plt.bar(index, [one, two, three, four, five], bar_width,\n",
    "alpha=opacity,\n",
    "color='r',\n",
    "label='Ratings')\n",
    " \n",
    "plt.xlabel('Movie Ids')\n",
    "plt.ylabel('Ratings')\n",
    "plt.title('Total Ratings by Movie')\n",
    "plt.xticks(index, range(1, 6))\n",
    " \n",
    "plt.tight_layout()\n",
    "plt.show()"
   ]
  }
 ],
 "metadata": {
  "kernelspec": {
   "display_name": "Python 3",
   "language": "python",
   "name": "python3"
  },
  "language_info": {
   "codemirror_mode": {
    "name": "ipython",
    "version": 3
   },
   "file_extension": ".py",
   "mimetype": "text/x-python",
   "name": "python",
   "nbconvert_exporter": "python",
   "pygments_lexer": "ipython3",
   "version": "3.6.3"
  }
 },
 "nbformat": 4,
 "nbformat_minor": 2
}
